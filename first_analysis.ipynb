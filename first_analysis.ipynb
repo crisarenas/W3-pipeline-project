{
 "cells": [
  {
   "cell_type": "markdown",
   "metadata": {},
   "source": [
    "# First analysis"
   ]
  },
  {
   "cell_type": "markdown",
   "metadata": {},
   "source": [
    "Vamos a inspeccionar un poco la información que tenemos para tener más ideas de por dónde ampliarla posteriormente."
   ]
  },
  {
   "cell_type": "code",
   "execution_count": 1,
   "metadata": {},
   "outputs": [],
   "source": [
    "import pandas as pd\n",
    "import seaborn as sns\n",
    "import matplotlib.pyplot as plt\n",
    "import numpy as np\n",
    "import re"
   ]
  },
  {
   "cell_type": "code",
   "execution_count": 2,
   "metadata": {},
   "outputs": [
    {
     "data": {
      "text/html": [
       "<div>\n",
       "<style scoped>\n",
       "    .dataframe tbody tr th:only-of-type {\n",
       "        vertical-align: middle;\n",
       "    }\n",
       "\n",
       "    .dataframe tbody tr th {\n",
       "        vertical-align: top;\n",
       "    }\n",
       "\n",
       "    .dataframe thead th {\n",
       "        text-align: right;\n",
       "    }\n",
       "</style>\n",
       "<table border=\"1\" class=\"dataframe\">\n",
       "  <thead>\n",
       "    <tr style=\"text-align: right;\">\n",
       "      <th></th>\n",
       "      <th>country</th>\n",
       "      <th>year</th>\n",
       "      <th>sex</th>\n",
       "      <th>age_range</th>\n",
       "      <th>suicide_number</th>\n",
       "      <th>population</th>\n",
       "      <th>suicides/100k</th>\n",
       "      <th>gdp_for_year</th>\n",
       "      <th>gdp_per_capita</th>\n",
       "      <th>generation</th>\n",
       "    </tr>\n",
       "  </thead>\n",
       "  <tbody>\n",
       "    <tr>\n",
       "      <th>0</th>\n",
       "      <td>Albania</td>\n",
       "      <td>1987</td>\n",
       "      <td>male</td>\n",
       "      <td>15-24 years</td>\n",
       "      <td>21</td>\n",
       "      <td>312900</td>\n",
       "      <td>6.71</td>\n",
       "      <td>2,156,624,900</td>\n",
       "      <td>796</td>\n",
       "      <td>Generation X</td>\n",
       "    </tr>\n",
       "    <tr>\n",
       "      <th>1</th>\n",
       "      <td>Albania</td>\n",
       "      <td>1987</td>\n",
       "      <td>male</td>\n",
       "      <td>35-54 years</td>\n",
       "      <td>16</td>\n",
       "      <td>308000</td>\n",
       "      <td>5.19</td>\n",
       "      <td>2,156,624,900</td>\n",
       "      <td>796</td>\n",
       "      <td>Silent</td>\n",
       "    </tr>\n",
       "    <tr>\n",
       "      <th>2</th>\n",
       "      <td>Albania</td>\n",
       "      <td>1987</td>\n",
       "      <td>female</td>\n",
       "      <td>15-24 years</td>\n",
       "      <td>14</td>\n",
       "      <td>289700</td>\n",
       "      <td>4.83</td>\n",
       "      <td>2,156,624,900</td>\n",
       "      <td>796</td>\n",
       "      <td>Generation X</td>\n",
       "    </tr>\n",
       "    <tr>\n",
       "      <th>3</th>\n",
       "      <td>Albania</td>\n",
       "      <td>1987</td>\n",
       "      <td>male</td>\n",
       "      <td>75+ years</td>\n",
       "      <td>1</td>\n",
       "      <td>21800</td>\n",
       "      <td>4.59</td>\n",
       "      <td>2,156,624,900</td>\n",
       "      <td>796</td>\n",
       "      <td>G.I. Generation</td>\n",
       "    </tr>\n",
       "    <tr>\n",
       "      <th>4</th>\n",
       "      <td>Albania</td>\n",
       "      <td>1987</td>\n",
       "      <td>male</td>\n",
       "      <td>25-34 years</td>\n",
       "      <td>9</td>\n",
       "      <td>274300</td>\n",
       "      <td>3.28</td>\n",
       "      <td>2,156,624,900</td>\n",
       "      <td>796</td>\n",
       "      <td>Boomers</td>\n",
       "    </tr>\n",
       "  </tbody>\n",
       "</table>\n",
       "</div>"
      ],
      "text/plain": [
       "   country  year     sex    age_range  suicide_number  population  \\\n",
       "0  Albania  1987    male  15-24 years              21      312900   \n",
       "1  Albania  1987    male  35-54 years              16      308000   \n",
       "2  Albania  1987  female  15-24 years              14      289700   \n",
       "3  Albania  1987    male    75+ years               1       21800   \n",
       "4  Albania  1987    male  25-34 years               9      274300   \n",
       "\n",
       "   suicides/100k   gdp_for_year  gdp_per_capita       generation  \n",
       "0           6.71  2,156,624,900             796     Generation X  \n",
       "1           5.19  2,156,624,900             796           Silent  \n",
       "2           4.83  2,156,624,900             796     Generation X  \n",
       "3           4.59  2,156,624,900             796  G.I. Generation  \n",
       "4           3.28  2,156,624,900             796          Boomers  "
      ]
     },
     "execution_count": 2,
     "metadata": {},
     "output_type": "execute_result"
    }
   ],
   "source": [
    "data = pd.read_csv(\"data/clean.csv\")\n",
    "data = data.drop('Unnamed: 0', axis=1)\n",
    "data.head()"
   ]
  },
  {
   "cell_type": "code",
   "execution_count": 3,
   "metadata": {},
   "outputs": [
    {
     "data": {
      "text/plain": [
       "9"
      ]
     },
     "execution_count": 3,
     "metadata": {},
     "output_type": "execute_result"
    }
   ],
   "source": [
    "data.suicide_number[4]"
   ]
  },
  {
   "cell_type": "markdown",
   "metadata": {},
   "source": [
    "# Sex"
   ]
  },
  {
   "cell_type": "code",
   "execution_count": 4,
   "metadata": {},
   "outputs": [
    {
     "data": {
      "text/plain": [
       "[3463271, 3285149]"
      ]
     },
     "execution_count": 4,
     "metadata": {},
     "output_type": "execute_result"
    }
   ],
   "source": [
    "f_suicide = 0\n",
    "m_suicide = 0\n",
    "for n in data.suicide_number:\n",
    "    if data.sex[n] == 'female':\n",
    "        f_suicide += n\n",
    "    else:\n",
    "        m_suicide += n\n",
    "        \n",
    "sex_suicide = [f_suicide,m_suicide]\n",
    "sex_suicide"
   ]
  },
  {
   "cell_type": "markdown",
   "metadata": {},
   "source": [
    "Estos datos me parecen tan impactantes que voy a comprobar si se está sumando bien la columna."
   ]
  },
  {
   "cell_type": "code",
   "execution_count": 5,
   "metadata": {},
   "outputs": [
    {
     "data": {
      "text/plain": [
       "6748420"
      ]
     },
     "execution_count": 5,
     "metadata": {},
     "output_type": "execute_result"
    }
   ],
   "source": [
    "data.suicide_number.sum()"
   ]
  },
  {
   "cell_type": "markdown",
   "metadata": {},
   "source": [
    "Efectivamente se está sumnado bien. Hablamos de que entre 1985 y 2016 (**en 31 años**), se han registrado en estos países un total de **más de 6 millones y medio de suicidios**, en su mayoría de mujeres. Intentaremos ampliar los países recogidos en este dataset más tarde, pero ya he podido comprobar que añadiendo países como Rusia o China al estudio, la cifra asciende a 24 millones de suicidios en 30 años, una media de 800 mil al año."
   ]
  },
  {
   "cell_type": "code",
   "execution_count": 6,
   "metadata": {},
   "outputs": [
    {
     "data": {
      "image/png": "[encoded data removed]",
      "text/plain": [
       "<Figure size 864x576 with 1 Axes>"
      ]
     },
     "metadata": {
      "needs_background": "light"
     },
     "output_type": "display_data"
    }
   ],
   "source": [
    "plt.figure(figsize=(12,8))\n",
    "plt.ylabel(\"Millions of deaths\")\n",
    "plt.title('Number of suicide from 1985-2016 per sex')\n",
    "plt.bar(['FEMALES','MALES'], sex_suicide, color=['purple','blue'],alpha = 0.7,edgecolor='black')\n",
    "\n",
    "\n",
    "plt.show()\n"
   ]
  },
  {
   "cell_type": "markdown",
   "metadata": {},
   "source": [
    " "
   ]
  },
  {
   "cell_type": "markdown",
   "metadata": {},
   "source": [
    " "
   ]
  },
  {
   "cell_type": "markdown",
   "metadata": {},
   "source": [
    " "
   ]
  },
  {
   "cell_type": "markdown",
   "metadata": {},
   "source": [
    "# Ages"
   ]
  },
  {
   "cell_type": "code",
   "execution_count": 7,
   "metadata": {},
   "outputs": [
    {
     "data": {
      "image/png": "[encoded data removed]",
      "text/plain": [
       "<Figure size 864x576 with 1 Axes>"
      ]
     },
     "metadata": {
      "needs_background": "light"
     },
     "output_type": "display_data"
    }
   ],
   "source": [
    "plt.figure(figsize=(12,8))\n",
    "m = data.groupby('age_range').suicide_number.sum().reset_index()\n",
    "\n",
    "plt.title(\"Suicides per age range\")\n",
    "plt.ylabel(\"Millions of suicides\")\n",
    "plt.bar(m.age_range, m.suicide_number,color=['salmon','orange', 'brown','grey','red','pink'],edgecolor='black')\n",
    "plt.show()"
   ]
  },
  {
   "cell_type": "markdown",
   "metadata": {},
   "source": [
    "# Countries"
   ]
  },
  {
   "cell_type": "markdown",
   "metadata": {},
   "source": [
    "### Regions"
   ]
  },
  {
   "cell_type": "code",
   "execution_count": 8,
   "metadata": {},
   "outputs": [],
   "source": [
    "nordic = ['Iceland','Norway','Sweden','Finland','Denmark']\n",
    "central_eu = ['Netherlands','Austria','Luxembourg','Belgium','United Kingdom','Ireland','France','Bulgaria',\n",
    "              'Ukraine','Romania','Germany','Poland']\n",
    "north_america = ['United States','Canada']\n",
    "south_america = ['Puerto Rico','Brazil','Chile','Ecuador','Argentina','Mexico','Colombia','Costa Rica','Guatemala',\n",
    "                 'Saint Lucia','Uruguay','Belize','Suriname','Paraguay','Trinidad and Tobago','Cuba','Panama','Guyana','Barbados']\n",
    "oceania = ['Australia','New Zealand']\n",
    "south_eu = ['Italy','Greece','Malta','Spain','Portugal']\n",
    "asia = ['Japan','Singapore','Republic of Korea','Israel','Turkmenistan','Thailand']"
   ]
  },
  {
   "cell_type": "code",
   "execution_count": 9,
   "metadata": {},
   "outputs": [],
   "source": [
    "nordic_suicide = 0\n",
    "central_eu_suicide = 0\n",
    "north_america_suicide = 0\n",
    "south_america_suicide = 0\n",
    "oceania_suicide = 0\n",
    "south_eu_suicide = 0\n",
    "asia_suicide = 0\n",
    "\n",
    "for n in data.suicide_number:\n",
    "    if data.country[n] in nordic:\n",
    "        nordic_suicide += n\n",
    "    elif data.country[n] in central_eu:\n",
    "        central_eu_suicide += n\n",
    "    elif data.country[n] in north_america:\n",
    "        north_america_suicide += n\n",
    "    elif data.country[n] in south_america:\n",
    "        south_america_suicide += n\n",
    "    elif data.country[n] in oceania:\n",
    "        oceania_suicide += n\n",
    "    elif data.country[n] in south_eu:\n",
    "        south_eu_suicide += n\n",
    "    elif data.country[n] in asia:\n",
    "        asia_suicide += n\n",
    "        \n"
   ]
  },
  {
   "cell_type": "code",
   "execution_count": 10,
   "metadata": {},
   "outputs": [
    {
     "data": {
      "image/png": "[encoded data removed]",
      "text/plain": [
       "<Figure size 864x360 with 1 Axes>"
      ]
     },
     "metadata": {
      "needs_background": "light"
     },
     "output_type": "display_data"
    }
   ],
   "source": [
    "countries = [nordic_suicide,central_eu_suicide,north_america_suicide,\n",
    "             south_america_suicide, oceania_suicide,south_eu_suicide,asia_suicide]        \n",
    "countries_labels = ['Nordic','Central EU','N.America','S.America','Oceania','South EU','Asia']\n",
    "\n",
    "\n",
    "plt.figure(figsize=(12,5))\n",
    "\n",
    "plt.title(\"Suicides per age range\")\n",
    "plt.ylabel(\"Millions of suicides\")\n",
    "plt.bar(countries_labels, countries, edgecolor='black')\n",
    "plt.show()"
   ]
  },
  {
   "cell_type": "markdown",
   "metadata": {},
   "source": [
    "### Top 5"
   ]
  },
  {
   "cell_type": "code",
   "execution_count": 11,
   "metadata": {},
   "outputs": [
    {
     "data": {
      "text/plain": [
       "country            year  sex   age_range  suicide_number  population  suicides/100k  gdp_for_year       gdp_per_capita  generation     \n",
       "Suriname           2012  male  75+ years  10              5346        187.06         4,980,000,000      10227           Silent             1\n",
       "Seychelles         2006  male  75+ years  2               976         204.92         1,016,418,229      12442           Silent             1\n",
       "Republic of Korea  2011  male  75+ years  1276            688365      185.37         1,202,463,682,634  25157           Silent             1\n",
       "                   2010  male  75+ years  1152            631853      182.32         1,094,499,338,703  22994           Silent             1\n",
       "Aruba              1995  male  75+ years  2               889         224.97         1,320,670,391      17949           G.I. Generation    1\n",
       "dtype: int64"
      ]
     },
     "execution_count": 11,
     "metadata": {},
     "output_type": "execute_result"
    }
   ],
   "source": [
    "data[data['suicides/100k'] > 180].value_counts()"
   ]
  },
  {
   "cell_type": "code",
   "execution_count": 12,
   "metadata": {},
   "outputs": [
    {
     "data": {
      "text/html": [
       "<div>\n",
       "<style scoped>\n",
       "    .dataframe tbody tr th:only-of-type {\n",
       "        vertical-align: middle;\n",
       "    }\n",
       "\n",
       "    .dataframe tbody tr th {\n",
       "        vertical-align: top;\n",
       "    }\n",
       "\n",
       "    .dataframe thead th {\n",
       "        text-align: right;\n",
       "    }\n",
       "</style>\n",
       "<table border=\"1\" class=\"dataframe\">\n",
       "  <thead>\n",
       "    <tr style=\"text-align: right;\">\n",
       "      <th></th>\n",
       "      <th>country</th>\n",
       "      <th>year</th>\n",
       "      <th>suicide per 100k</th>\n",
       "    </tr>\n",
       "  </thead>\n",
       "  <tbody>\n",
       "    <tr>\n",
       "      <th>0</th>\n",
       "      <td>Aruba</td>\n",
       "      <td>1995</td>\n",
       "      <td>224.97</td>\n",
       "    </tr>\n",
       "    <tr>\n",
       "      <th>1</th>\n",
       "      <td>Seychelles</td>\n",
       "      <td>2006</td>\n",
       "      <td>204.92</td>\n",
       "    </tr>\n",
       "    <tr>\n",
       "      <th>2</th>\n",
       "      <td>Suriname</td>\n",
       "      <td>2012</td>\n",
       "      <td>187.06</td>\n",
       "    </tr>\n",
       "    <tr>\n",
       "      <th>3</th>\n",
       "      <td>Republic of Korea</td>\n",
       "      <td>2011</td>\n",
       "      <td>185.37</td>\n",
       "    </tr>\n",
       "    <tr>\n",
       "      <th>4</th>\n",
       "      <td>Republic of Korea</td>\n",
       "      <td>2010</td>\n",
       "      <td>182.32</td>\n",
       "    </tr>\n",
       "  </tbody>\n",
       "</table>\n",
       "</div>"
      ],
      "text/plain": [
       "             country  year  suicide per 100k\n",
       "0              Aruba  1995            224.97\n",
       "1         Seychelles  2006            204.92\n",
       "2           Suriname  2012            187.06\n",
       "3  Republic of Korea  2011            185.37\n",
       "4  Republic of Korea  2010            182.32"
      ]
     },
     "execution_count": 12,
     "metadata": {},
     "output_type": "execute_result"
    }
   ],
   "source": [
    "top = {'country':  ['Aruba', 'Seychelles','Suriname','Republic of Korea','Republic of Korea'],\n",
    "       'year': [1995, 2006,2012,2011,2010],\n",
    "       'suicide per 100k': [224.97, 204.92,187.06,185.37,182.32],\n",
    "        }\n",
    "\n",
    "df = pd.DataFrame (top, columns = ['country','year','suicide per 100k'])\n",
    "\n",
    "df\n"
   ]
  },
  {
   "cell_type": "markdown",
   "metadata": {},
   "source": [
    "# Years"
   ]
  },
  {
   "cell_type": "code",
   "execution_count": 13,
   "metadata": {},
   "outputs": [
    {
     "data": {
      "image/png": "[encoded data removed]",
      "text/plain": [
       "<Figure size 864x576 with 1 Axes>"
      ]
     },
     "metadata": {
      "needs_background": "light"
     },
     "output_type": "display_data"
    }
   ],
   "source": [
    "plt.figure(figsize=(12,8))\n",
    "m = data.groupby('year').suicide_number.sum().reset_index()\n",
    "\n",
    "plt.title(\"Suicides per year\")\n",
    "\n",
    "plt.bar(m.year, m.suicide_number,edgecolor='black')\n",
    "plt.show()"
   ]
  },
  {
   "cell_type": "code",
   "execution_count": null,
   "metadata": {},
   "outputs": [],
   "source": []
  }
 ],
 "metadata": {
  "kernelspec": {
   "display_name": "Python 3",
   "language": "python",
   "name": "python3"
  },
  "language_info": {
   "codemirror_mode": {
    "name": "ipython",
    "version": 3
   },
   "file_extension": ".py",
   "mimetype": "text/x-python",
   "name": "python",
   "nbconvert_exporter": "python",
   "pygments_lexer": "ipython3",
   "version": "3.8.6"
  }
 },
 "nbformat": 4,
 "nbformat_minor": 4
}
